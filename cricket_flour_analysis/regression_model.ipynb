{
 "cells": [
  {
   "cell_type": "code",
   "execution_count": 255,
   "id": "5b18342a",
   "metadata": {},
   "outputs": [],
   "source": [
    "import seaborn as sns\n",
    "import statsmodels as sts\n",
    "import numpy as np\n",
    "import pandas as pd\n",
    "import matplotlib.pyplot as plt\n",
    "from statsmodels.miscmodels.ordinal_model import OrderedModel\n",
    "from matplotlib.ticker import PercentFormatter\n",
    "from statsmodels.stats.outliers_influence import variance_inflation_factor\n",
    "from statsmodels.tools.tools import add_constant\n",
    "from sklearn.preprocessing import StandardScaler\n",
    "from sklearn.utils.class_weight import compute_class_weight\n",
    "import mord as m"
   ]
  },
  {
   "cell_type": "code",
   "execution_count": 256,
   "id": "bca4d805",
   "metadata": {},
   "outputs": [
    {
     "name": "stderr",
     "output_type": "stream",
     "text": [
      "<>:1: SyntaxWarning: invalid escape sequence '\\c'\n",
      "<>:1: SyntaxWarning: invalid escape sequence '\\c'\n",
      "C:\\Users\\VOrozco\\AppData\\Local\\Temp\\ipykernel_62680\\1461466593.py:1: SyntaxWarning: invalid escape sequence '\\c'\n",
      "  df = pd.read_csv(\"csv_files\\cricket_flour_second_stage.csv\")\n"
     ]
    },
    {
     "data": {
      "text/html": [
       "<div>\n",
       "<style scoped>\n",
       "    .dataframe tbody tr th:only-of-type {\n",
       "        vertical-align: middle;\n",
       "    }\n",
       "\n",
       "    .dataframe tbody tr th {\n",
       "        vertical-align: top;\n",
       "    }\n",
       "\n",
       "    .dataframe thead th {\n",
       "        text-align: right;\n",
       "    }\n",
       "</style>\n",
       "<table border=\"1\" class=\"dataframe\">\n",
       "  <thead>\n",
       "    <tr style=\"text-align: right;\">\n",
       "      <th></th>\n",
       "      <th>buying_intention</th>\n",
       "      <th>click</th>\n",
       "      <th>health_conscious</th>\n",
       "      <th>sustainability</th>\n",
       "      <th>prior_exposure</th>\n",
       "      <th>cooking_frequency</th>\n",
       "      <th>age</th>\n",
       "      <th>gender</th>\n",
       "      <th>location</th>\n",
       "      <th>group</th>\n",
       "    </tr>\n",
       "  </thead>\n",
       "  <tbody>\n",
       "    <tr>\n",
       "      <th>0</th>\n",
       "      <td>3</td>\n",
       "      <td>Yes</td>\n",
       "      <td>3</td>\n",
       "      <td>5</td>\n",
       "      <td>No</td>\n",
       "      <td>2</td>\n",
       "      <td>25-34</td>\n",
       "      <td>Female</td>\n",
       "      <td>Czech Republic</td>\n",
       "      <td>control</td>\n",
       "    </tr>\n",
       "    <tr>\n",
       "      <th>1</th>\n",
       "      <td>3</td>\n",
       "      <td>Yes</td>\n",
       "      <td>2</td>\n",
       "      <td>4</td>\n",
       "      <td>No</td>\n",
       "      <td>2</td>\n",
       "      <td>44-above</td>\n",
       "      <td>Female</td>\n",
       "      <td>France</td>\n",
       "      <td>health_social</td>\n",
       "    </tr>\n",
       "    <tr>\n",
       "      <th>2</th>\n",
       "      <td>6</td>\n",
       "      <td>Yes</td>\n",
       "      <td>2</td>\n",
       "      <td>2</td>\n",
       "      <td>Yes</td>\n",
       "      <td>3</td>\n",
       "      <td>25-34</td>\n",
       "      <td>Male</td>\n",
       "      <td>Spain</td>\n",
       "      <td>sus_social</td>\n",
       "    </tr>\n",
       "    <tr>\n",
       "      <th>3</th>\n",
       "      <td>3</td>\n",
       "      <td>No</td>\n",
       "      <td>2</td>\n",
       "      <td>2</td>\n",
       "      <td>Yes</td>\n",
       "      <td>3</td>\n",
       "      <td>44-above</td>\n",
       "      <td>Female</td>\n",
       "      <td>Greece</td>\n",
       "      <td>health_regular</td>\n",
       "    </tr>\n",
       "    <tr>\n",
       "      <th>4</th>\n",
       "      <td>2</td>\n",
       "      <td>Yes</td>\n",
       "      <td>3</td>\n",
       "      <td>4</td>\n",
       "      <td>No</td>\n",
       "      <td>1</td>\n",
       "      <td>25-34</td>\n",
       "      <td>Female</td>\n",
       "      <td>Italy</td>\n",
       "      <td>control</td>\n",
       "    </tr>\n",
       "  </tbody>\n",
       "</table>\n",
       "</div>"
      ],
      "text/plain": [
       "   buying_intention click  health_conscious  sustainability prior_exposure  \\\n",
       "0                 3   Yes                 3               5             No   \n",
       "1                 3   Yes                 2               4             No   \n",
       "2                 6   Yes                 2               2            Yes   \n",
       "3                 3    No                 2               2            Yes   \n",
       "4                 2   Yes                 3               4             No   \n",
       "\n",
       "   cooking_frequency       age  gender        location           group  \n",
       "0                  2     25-34  Female  Czech Republic         control  \n",
       "1                  2  44-above  Female          France   health_social  \n",
       "2                  3     25-34    Male           Spain      sus_social  \n",
       "3                  3  44-above  Female          Greece  health_regular  \n",
       "4                  1     25-34  Female           Italy         control  "
      ]
     },
     "execution_count": 256,
     "metadata": {},
     "output_type": "execute_result"
    }
   ],
   "source": [
    "df = pd.read_csv(\"csv_files\\cricket_flour_second_stage.csv\")\n",
    "df.head()"
   ]
  },
  {
   "cell_type": "markdown",
   "id": "53e40b89",
   "metadata": {},
   "source": [
    "## Ordinal Regression"
   ]
  },
  {
   "cell_type": "code",
   "execution_count": 257,
   "id": "e8a2fe26",
   "metadata": {},
   "outputs": [],
   "source": [
    "# Convert variables\n",
    "# click\n",
    "df[\"click\"] = df[\"click\"].map({\"Yes\":1, \"No\":0})"
   ]
  },
  {
   "cell_type": "code",
   "execution_count": 258,
   "id": "539c2821",
   "metadata": {},
   "outputs": [],
   "source": [
    "# convert to dummy variables \n",
    "# prior exposure, gender, group,location, age\n",
    "dummy_vars = pd.get_dummies(\n",
    "    data= df,\n",
    "    columns= [\"prior_exposure\", \"gender\", \"group\",\"location\", \"age\"],\n",
    "    drop_first= True,\n",
    "    prefix= [\"prior\", \"\", \"\", \"\", \"\"]\n",
    ").astype(int)\n"
   ]
  },
  {
   "cell_type": "code",
   "execution_count": 259,
   "id": "a527a5d2",
   "metadata": {},
   "outputs": [
    {
     "data": {
      "text/plain": [
       "1000"
      ]
     },
     "execution_count": 259,
     "metadata": {},
     "output_type": "execute_result"
    }
   ],
   "source": [
    "len(dummy_vars)"
   ]
  },
  {
   "cell_type": "code",
   "execution_count": 260,
   "id": "909ce306",
   "metadata": {},
   "outputs": [
    {
     "data": {
      "text/plain": [
       "Index(['buying_intention', 'click', 'health_conscious', 'sustainability',\n",
       "       'cooking_frequency', 'prior_Yes', '_Male', '_Non-binary',\n",
       "       '_health_regular', '_health_social', '_sus_regular', '_sus_social',\n",
       "       '_Belgium', '_Czech Republic', '_Denmark', '_Finland', '_France',\n",
       "       '_Germany', '_Greece', '_Hungary', '_Italy', '_Netherlands', '_Norway',\n",
       "       '_Poland', '_Portugal', '_Spain', '_Sweden', '_Switzerland', '_25-34',\n",
       "       '_35-44', '_44-above'],\n",
       "      dtype='object')"
      ]
     },
     "execution_count": 260,
     "metadata": {},
     "output_type": "execute_result"
    }
   ],
   "source": [
    "dummy_vars.columns"
   ]
  },
  {
   "cell_type": "code",
   "execution_count": 261,
   "id": "b2633a8a",
   "metadata": {},
   "outputs": [],
   "source": [
    "# Define predictors (excluding your target)\n",
    "predictors = ['health_conscious', 'sustainability',\n",
    "              'cooking_frequency', 'prior_Yes', '_Male', '_Non-binary',\n",
    "              '_health_regular', '_health_social', '_sus_regular', '_sus_social',\n",
    "              '_25-34','_35-44', '_44-above']\n",
    "\n",
    "X = dummy_vars[predictors]\n",
    "y = dummy_vars['buying_intention']"
   ]
  },
  {
   "cell_type": "code",
   "execution_count": 262,
   "id": "9bdc7757",
   "metadata": {},
   "outputs": [
    {
     "name": "stderr",
     "output_type": "stream",
     "text": [
      "c:\\Users\\VOrozco\\AppData\\Local\\Programs\\Python\\Python313\\Lib\\site-packages\\statsmodels\\base\\optimizer.py:19: FutureWarning: Keyword arguments have been passed to the optimizer that have no effect. The list of allowed keyword arguments for method nm is: xtol, ftol, maxfun. The list of unsupported keyword arguments passed include: model. After release 0.14, this will raise.\n",
      "  warnings.warn(\n",
      "c:\\Users\\VOrozco\\AppData\\Local\\Programs\\Python\\Python313\\Lib\\site-packages\\statsmodels\\base\\optimizer.py:737: RuntimeWarning: Maximum number of iterations has been exceeded.\n",
      "  retvals = optimize.fmin(f, start_params, args=fargs, xtol=xtol,\n"
     ]
    },
    {
     "name": "stdout",
     "output_type": "stream",
     "text": [
      "                             OrderedModel Results                             \n",
      "==============================================================================\n",
      "Dep. Variable:       buying_intention   Log-Likelihood:                -1376.9\n",
      "Model:                   OrderedModel   AIC:                             2792.\n",
      "Method:            Maximum Likelihood   BIC:                             2885.\n",
      "Date:                Mon, 01 Sep 2025                                         \n",
      "Time:                        12:01:20                                         \n",
      "No. Observations:                1000                                         \n",
      "Df Residuals:                     981                                         \n",
      "Df Model:                          13                                         \n",
      "=====================================================================================\n",
      "                        coef    std err          z      P>|z|      [0.025      0.975]\n",
      "-------------------------------------------------------------------------------------\n",
      "health_conscious     -0.0354      0.039     -0.903      0.367      -0.112       0.041\n",
      "sustainability        0.0670      0.034      1.953      0.051      -0.000       0.134\n",
      "cooking_frequency     0.1243      0.017      7.450      0.000       0.092       0.157\n",
      "prior_Yes             0.0999      0.084      1.184      0.236      -0.065       0.265\n",
      "_Male                -0.1575      0.067     -2.350      0.019      -0.289      -0.026\n",
      "_Non-binary           0.1385      0.294      0.470      0.638      -0.439       0.716\n",
      "_health_regular      -0.1245      0.108     -1.152      0.249      -0.336       0.087\n",
      "_health_social        0.1223      0.112      1.092      0.275      -0.097       0.342\n",
      "_sus_regular         -0.0610      0.108     -0.564      0.573      -0.273       0.151\n",
      "_sus_social           0.1367      0.121      1.132      0.258      -0.100       0.373\n",
      "_25-34               -0.2145      0.092     -2.343      0.019      -0.394      -0.035\n",
      "_35-44               -0.0829      0.101     -0.817      0.414      -0.282       0.116\n",
      "_44-above            -0.0694      0.104     -0.665      0.506      -0.274       0.135\n",
      "1/2                  -2.0357      0.233     -8.724      0.000      -2.493      -1.578\n",
      "2/3                   0.3568      0.112      3.194      0.001       0.138       0.576\n",
      "3/4                   0.0049      0.052      0.095      0.925      -0.097       0.107\n",
      "4/5                  -0.0516      0.055     -0.932      0.351      -0.160       0.057\n",
      "5/6                   0.0043      0.083      0.052      0.958      -0.158       0.166\n",
      "6/7                  -0.2034      0.196     -1.038      0.299      -0.587       0.180\n",
      "=====================================================================================\n"
     ]
    },
    {
     "name": "stderr",
     "output_type": "stream",
     "text": [
      "c:\\Users\\VOrozco\\AppData\\Local\\Programs\\Python\\Python313\\Lib\\site-packages\\statsmodels\\base\\model.py:607: ConvergenceWarning: Maximum Likelihood optimization failed to converge. Check mle_retvals\n",
      "  warnings.warn(\"Maximum Likelihood optimization failed to \"\n"
     ]
    }
   ],
   "source": [
    "ordered_model = OrderedModel(y,X)\n",
    "results_order = ordered_model.fit(model=\"bfgs\")\n",
    "print(results_order.summary())"
   ]
  },
  {
   "cell_type": "markdown",
   "id": "98c0112d",
   "metadata": {},
   "source": [
    "Thresholds are not incremental probably due to low evident difference across all categories of buying intention, because of this I will reduce the number of categories. This will allow the model to stabilize the estimates. "
   ]
  },
  {
   "cell_type": "code",
   "execution_count": 263,
   "id": "18aebed8",
   "metadata": {},
   "outputs": [
    {
     "data": {
      "text/plain": [
       "buying_intention\n",
       "3    355\n",
       "4    310\n",
       "2    180\n",
       "5    121\n",
       "6     27\n",
       "7      5\n",
       "1      2\n",
       "Name: count, dtype: int64"
      ]
     },
     "execution_count": 263,
     "metadata": {},
     "output_type": "execute_result"
    }
   ],
   "source": [
    "df[\"buying_intention\"].value_counts()"
   ]
  },
  {
   "cell_type": "code",
   "execution_count": 264,
   "id": "168fbf6f",
   "metadata": {},
   "outputs": [
    {
     "name": "stderr",
     "output_type": "stream",
     "text": [
      "C:\\Users\\VOrozco\\AppData\\Local\\Temp\\ipykernel_62680\\2555341042.py:12: FutureWarning: using <function mapping at 0x000001C7D8609EE0> in Series.agg cannot aggregate and has been deprecated. Use Series.transform to keep behavior unchanged.\n",
      "  dummy_vars[\"buying_intention\"] = df[\"buying_intention\"].aggregate(mapping)\n"
     ]
    }
   ],
   "source": [
    "# Collapse buying intention\n",
    "def mapping(value):\n",
    "   if value in[1,2,3]:\n",
    "      return 1\n",
    "   elif value in [3,4]:\n",
    "      return 2\n",
    "   elif value  == 5:\n",
    "      return 3\n",
    "   elif value in [6,7]:\n",
    "      return 4\n",
    "\n",
    "dummy_vars[\"buying_intention\"] = df[\"buying_intention\"].aggregate(mapping)"
   ]
  },
  {
   "cell_type": "code",
   "execution_count": 265,
   "id": "58fd5fef",
   "metadata": {},
   "outputs": [
    {
     "data": {
      "text/plain": [
       "buying_intention\n",
       "1    537\n",
       "2    310\n",
       "3    121\n",
       "4     32\n",
       "Name: count, dtype: int64"
      ]
     },
     "execution_count": 265,
     "metadata": {},
     "output_type": "execute_result"
    }
   ],
   "source": [
    "dummy_vars[\"buying_intention\"].value_counts()"
   ]
  },
  {
   "cell_type": "code",
   "execution_count": 266,
   "id": "90a49e22",
   "metadata": {},
   "outputs": [
    {
     "data": {
      "text/plain": [
       "<Axes: xlabel='buying_intention', ylabel='count'>"
      ]
     },
     "execution_count": 266,
     "metadata": {},
     "output_type": "execute_result"
    },
    {
     "data": {
      "image/png": "[encoded data removed]",
      "text/plain": [
       "<Figure size 640x480 with 1 Axes>"
      ]
     },
     "metadata": {},
     "output_type": "display_data"
    }
   ],
   "source": [
    "sns.countplot(x = dummy_vars[\"buying_intention\"])"
   ]
  },
  {
   "cell_type": "code",
   "execution_count": 267,
   "id": "a124fa52",
   "metadata": {},
   "outputs": [
    {
     "data": {
      "text/plain": [
       "<Axes: xlabel='buying_intention', ylabel='count'>"
      ]
     },
     "execution_count": 267,
     "metadata": {},
     "output_type": "execute_result"
    },
    {
     "data": {
      "image/png": "[encoded data removed]",
      "text/plain": [
       "<Figure size 640x480 with 1 Axes>"
      ]
     },
     "metadata": {},
     "output_type": "display_data"
    }
   ],
   "source": [
    "sns.countplot(x = df[\"buying_intention\"])"
   ]
  },
  {
   "cell_type": "code",
   "execution_count": 268,
   "id": "3bd40ab6",
   "metadata": {},
   "outputs": [],
   "source": [
    "y = pd.Categorical(dummy_vars[\"buying_intention\"], categories=[1, 2,3,4], ordered=True)\n"
   ]
  },
  {
   "cell_type": "code",
   "execution_count": 269,
   "id": "5daf964a",
   "metadata": {},
   "outputs": [
    {
     "name": "stderr",
     "output_type": "stream",
     "text": [
      "c:\\Users\\VOrozco\\AppData\\Local\\Programs\\Python\\Python313\\Lib\\site-packages\\statsmodels\\base\\optimizer.py:737: RuntimeWarning: Maximum number of iterations has been exceeded.\n",
      "  retvals = optimize.fmin(f, start_params, args=fargs, xtol=xtol,\n",
      "c:\\Users\\VOrozco\\AppData\\Local\\Programs\\Python\\Python313\\Lib\\site-packages\\statsmodels\\base\\model.py:607: ConvergenceWarning: Maximum Likelihood optimization failed to converge. Check mle_retvals\n",
      "  warnings.warn(\"Maximum Likelihood optimization failed to \"\n"
     ]
    }
   ],
   "source": [
    "new_ordinal_model = OrderedModel(y,X)\n",
    "resutls_new_categories = new_ordinal_model.fit()"
   ]
  },
  {
   "cell_type": "code",
   "execution_count": 270,
   "id": "02264376",
   "metadata": {},
   "outputs": [
    {
     "name": "stdout",
     "output_type": "stream",
     "text": [
      "                             OrderedModel Results                             \n",
      "==============================================================================\n",
      "Dep. Variable:                      y   Log-Likelihood:                -864.59\n",
      "Model:                   OrderedModel   AIC:                             1761.\n",
      "Method:            Maximum Likelihood   BIC:                             1840.\n",
      "Date:                Mon, 01 Sep 2025                                         \n",
      "Time:                        12:01:21                                         \n",
      "No. Observations:                1000                                         \n",
      "Df Residuals:                     984                                         \n",
      "Df Model:                          13                                         \n",
      "=====================================================================================\n",
      "                        coef    std err          z      P>|z|      [0.025      0.975]\n",
      "-------------------------------------------------------------------------------------\n",
      "health_conscious     -0.0815      0.045     -1.800      0.072      -0.170       0.007\n",
      "sustainability        0.2556      0.040      6.435      0.000       0.178       0.334\n",
      "cooking_frequency    -0.0043      0.019     -0.221      0.825      -0.042       0.033\n",
      "prior_Yes             0.6276      0.093      6.775      0.000       0.446       0.809\n",
      "_Male                -1.0368      0.080    -13.031      0.000      -1.193      -0.881\n",
      "_Non-binary          -0.1928      0.312     -0.618      0.537      -0.805       0.419\n",
      "_health_regular      -0.1976      0.132     -1.500      0.134      -0.456       0.061\n",
      "_health_social        0.1642      0.123      1.338      0.181      -0.076       0.405\n",
      "_sus_regular         -0.6408      0.136     -4.726      0.000      -0.907      -0.375\n",
      "_sus_social           0.8565      0.132      6.492      0.000       0.598       1.115\n",
      "_25-34                0.2273      0.103      2.204      0.028       0.025       0.429\n",
      "_35-44               -0.2853      0.119     -2.403      0.016      -0.518      -0.053\n",
      "_44-above            -0.0285      0.122     -0.234      0.815      -0.267       0.210\n",
      "1/2                   0.3327      0.223      1.490      0.136      -0.105       0.770\n",
      "2/3                   0.3039      0.050      6.136      0.000       0.207       0.401\n",
      "3/4                   0.1364      0.086      1.581      0.114      -0.033       0.306\n",
      "=====================================================================================\n"
     ]
    }
   ],
   "source": [
    "print(resutls_new_categories.summary())"
   ]
  },
  {
   "cell_type": "markdown",
   "id": "f76c715b",
   "metadata": {},
   "source": [
    "Still no convergence, so we ran an VIF(Variance inflation Factor) to see if maybe non-convergence is comming from highly correlated columns in X."
   ]
  },
  {
   "cell_type": "code",
   "execution_count": 271,
   "id": "1d2f8f4a",
   "metadata": {},
   "outputs": [
    {
     "name": "stdout",
     "output_type": "stream",
     "text": [
      "              feature       VIF\n",
      "11             _25-34  1.759070\n",
      "12             _35-44  1.652374\n",
      "8      _health_social  1.626430\n",
      "13          _44-above  1.618141\n",
      "9        _sus_regular  1.608641\n",
      "7     _health_regular  1.596180\n",
      "10        _sus_social  1.591412\n",
      "4           prior_Yes  1.026030\n",
      "5               _Male  1.023951\n",
      "6         _Non-binary  1.021836\n",
      "2      sustainability  1.018107\n",
      "3   cooking_frequency  1.009759\n",
      "1    health_conscious  1.008770\n"
     ]
    }
   ],
   "source": [
    "# (optional) drop columns with zero variance\n",
    "nzv = X.columns[X.nunique() <= 1]\n",
    "X = X.drop(columns=nzv)\n",
    "\n",
    "# 3) add intercept for VIF calculation (you'll *not* use an intercept in OrderedModel itself)\n",
    "Xc = add_constant(X, has_constant='add')\n",
    "\n",
    "# 4) compute VIF\n",
    "vif = pd.DataFrame({\n",
    "    \"feature\": Xc.columns,\n",
    "    \"VIF\": [variance_inflation_factor(Xc.values, i) for i in range(Xc.shape[1])]\n",
    "}).query(\"feature != 'const'\").sort_values(\"VIF\", ascending=False)\n",
    "\n",
    "print(vif)\n"
   ]
  },
  {
   "cell_type": "markdown",
   "id": "9c77e015",
   "metadata": {},
   "source": [
    "The difficulty in convergence does not come from the predictors. Because of this we will reduce the classification from 4 to 3, and test."
   ]
  },
  {
   "cell_type": "code",
   "execution_count": 272,
   "id": "7702c8fb",
   "metadata": {},
   "outputs": [
    {
     "name": "stderr",
     "output_type": "stream",
     "text": [
      "C:\\Users\\VOrozco\\AppData\\Local\\Temp\\ipykernel_62680\\4269406159.py:10: FutureWarning: using <function mapping at 0x000001C7CA3B2520> in Series.agg cannot aggregate and has been deprecated. Use Series.transform to keep behavior unchanged.\n",
      "  dummy_vars[\"buying_intention\"] = df[\"buying_intention\"].aggregate(mapping)\n"
     ]
    }
   ],
   "source": [
    "# Collapse buying intention\n",
    "def mapping(value):\n",
    "   if value in[1,2]:\n",
    "      return 1\n",
    "   elif value in [3,4]:\n",
    "      return 2\n",
    "   elif value in [5,6,7]:\n",
    "      return 3\n",
    "\n",
    "dummy_vars[\"buying_intention\"] = df[\"buying_intention\"].aggregate(mapping)"
   ]
  },
  {
   "cell_type": "code",
   "execution_count": 273,
   "id": "a826917d",
   "metadata": {},
   "outputs": [
    {
     "data": {
      "text/plain": [
       "<Axes: xlabel='buying_intention', ylabel='count'>"
      ]
     },
     "execution_count": 273,
     "metadata": {},
     "output_type": "execute_result"
    },
    {
     "data": {
      "image/png": "[encoded data removed]",
      "text/plain": [
       "<Figure size 640x480 with 1 Axes>"
      ]
     },
     "metadata": {},
     "output_type": "display_data"
    }
   ],
   "source": [
    "sns.countplot(x=dummy_vars[\"buying_intention\"])\n"
   ]
  },
  {
   "cell_type": "code",
   "execution_count": 274,
   "id": "0428e62e",
   "metadata": {},
   "outputs": [
    {
     "data": {
      "text/plain": [
       "buying_intention\n",
       "2    665\n",
       "1    182\n",
       "3    153\n",
       "Name: count, dtype: int64"
      ]
     },
     "execution_count": 274,
     "metadata": {},
     "output_type": "execute_result"
    }
   ],
   "source": [
    "dummy_vars[\"buying_intention\"].value_counts()"
   ]
  },
  {
   "cell_type": "code",
   "execution_count": 275,
   "id": "ee7d4cb7",
   "metadata": {},
   "outputs": [
    {
     "name": "stderr",
     "output_type": "stream",
     "text": [
      "c:\\Users\\VOrozco\\AppData\\Local\\Programs\\Python\\Python313\\Lib\\site-packages\\statsmodels\\base\\optimizer.py:737: RuntimeWarning: Maximum number of iterations has been exceeded.\n",
      "  retvals = optimize.fmin(f, start_params, args=fargs, xtol=xtol,\n",
      "c:\\Users\\VOrozco\\AppData\\Local\\Programs\\Python\\Python313\\Lib\\site-packages\\statsmodels\\base\\model.py:607: ConvergenceWarning: Maximum Likelihood optimization failed to converge. Check mle_retvals\n",
      "  warnings.warn(\"Maximum Likelihood optimization failed to \"\n"
     ]
    }
   ],
   "source": [
    "y = dummy_vars[\"buying_intention\"]\n",
    "new_ordinal_model = OrderedModel(y,X)\n",
    "resutls_new_categories = new_ordinal_model.fit(maxiter= 1000)"
   ]
  },
  {
   "cell_type": "code",
   "execution_count": 276,
   "id": "1c9e54b7",
   "metadata": {},
   "outputs": [
    {
     "name": "stdout",
     "output_type": "stream",
     "text": [
      "                             OrderedModel Results                             \n",
      "==============================================================================\n",
      "Dep. Variable:       buying_intention   Log-Likelihood:                -662.42\n",
      "Model:                   OrderedModel   AIC:                             1355.\n",
      "Method:            Maximum Likelihood   BIC:                             1428.\n",
      "Date:                Mon, 01 Sep 2025                                         \n",
      "Time:                        12:01:21                                         \n",
      "No. Observations:                1000                                         \n",
      "Df Residuals:                     985                                         \n",
      "Df Model:                          13                                         \n",
      "=====================================================================================\n",
      "                        coef    std err          z      P>|z|      [0.025      0.975]\n",
      "-------------------------------------------------------------------------------------\n",
      "health_conscious      0.2841      0.048      5.887      0.000       0.190       0.379\n",
      "sustainability        0.3258      0.042      7.716      0.000       0.243       0.409\n",
      "cooking_frequency     0.0634      0.020      3.130      0.002       0.024       0.103\n",
      "prior_Yes             1.0691      0.106     10.105      0.000       0.862       1.277\n",
      "_Male                -0.0843      0.081     -1.038      0.299      -0.243       0.075\n",
      "_Non-binary          -0.3430      0.351     -0.976      0.329      -1.031       0.346\n",
      "_health_regular      -0.6246      0.126     -4.943      0.000      -0.872      -0.377\n",
      "_health_social        0.4664      0.129      3.613      0.000       0.213       0.719\n",
      "_sus_regular         -0.0773      0.126     -0.615      0.538      -0.324       0.169\n",
      "_sus_social           0.8078      0.138      5.850      0.000       0.537       1.078\n",
      "_25-34                0.1251      0.111      1.123      0.261      -0.093       0.344\n",
      "_35-44               -0.3835      0.124     -3.100      0.002      -0.626      -0.141\n",
      "_44-above            -0.8804      0.127     -6.905      0.000      -1.130      -0.630\n",
      "1/2                   0.8793      0.234      3.762      0.000       0.421       1.337\n",
      "2/3                   0.9707      0.036     26.849      0.000       0.900       1.042\n",
      "=====================================================================================\n"
     ]
    }
   ],
   "source": [
    "print(resutls_new_categories.summary())"
   ]
  },
  {
   "cell_type": "markdown",
   "id": "7812c63c",
   "metadata": {},
   "source": [
    "Still converges with a warning, possibly because there is class imbalance, so as a next step i will test another model using penalization of class."
   ]
  },
  {
   "cell_type": "code",
   "execution_count": 277,
   "id": "1e1b798e",
   "metadata": {},
   "outputs": [
    {
     "name": "stdout",
     "output_type": "stream",
     "text": [
      "[1.83150183 0.50125313 2.17864924]\n"
     ]
    },
    {
     "data": {
      "text/html": [
       "<style>#sk-container-id-7 {\n",
       "  /* Definition of color scheme common for light and dark mode */\n",
       "  --sklearn-color-text: #000;\n",
       "  --sklearn-color-text-muted: #666;\n",
       "  --sklearn-color-line: gray;\n",
       "  /* Definition of color scheme for unfitted estimators */\n",
       "  --sklearn-color-unfitted-level-0: #fff5e6;\n",
       "  --sklearn-color-unfitted-level-1: #f6e4d2;\n",
       "  --sklearn-color-unfitted-level-2: #ffe0b3;\n",
       "  --sklearn-color-unfitted-level-3: chocolate;\n",
       "  /* Definition of color scheme for fitted estimators */\n",
       "  --sklearn-color-fitted-level-0: #f0f8ff;\n",
       "  --sklearn-color-fitted-level-1: #d4ebff;\n",
       "  --sklearn-color-fitted-level-2: #b3dbfd;\n",
       "  --sklearn-color-fitted-level-3: cornflowerblue;\n",
       "\n",
       "  /* Specific color for light theme */\n",
       "  --sklearn-color-text-on-default-background: var(--sg-text-color, var(--theme-code-foreground, var(--jp-content-font-color1, black)));\n",
       "  --sklearn-color-background: var(--sg-background-color, var(--theme-background, var(--jp-layout-color0, white)));\n",
       "  --sklearn-color-border-box: var(--sg-text-color, var(--theme-code-foreground, var(--jp-content-font-color1, black)));\n",
       "  --sklearn-color-icon: #696969;\n",
       "\n",
       "  @media (prefers-color-scheme: dark) {\n",
       "    /* Redefinition of color scheme for dark theme */\n",
       "    --sklearn-color-text-on-default-background: var(--sg-text-color, var(--theme-code-foreground, var(--jp-content-font-color1, white)));\n",
       "    --sklearn-color-background: var(--sg-background-color, var(--theme-background, var(--jp-layout-color0, #111)));\n",
       "    --sklearn-color-border-box: var(--sg-text-color, var(--theme-code-foreground, var(--jp-content-font-color1, white)));\n",
       "    --sklearn-color-icon: #878787;\n",
       "  }\n",
       "}\n",
       "\n",
       "#sk-container-id-7 {\n",
       "  color: var(--sklearn-color-text);\n",
       "}\n",
       "\n",
       "#sk-container-id-7 pre {\n",
       "  padding: 0;\n",
       "}\n",
       "\n",
       "#sk-container-id-7 input.sk-hidden--visually {\n",
       "  border: 0;\n",
       "  clip: rect(1px 1px 1px 1px);\n",
       "  clip: rect(1px, 1px, 1px, 1px);\n",
       "  height: 1px;\n",
       "  margin: -1px;\n",
       "  overflow: hidden;\n",
       "  padding: 0;\n",
       "  position: absolute;\n",
       "  width: 1px;\n",
       "}\n",
       "\n",
       "#sk-container-id-7 div.sk-dashed-wrapped {\n",
       "  border: 1px dashed var(--sklearn-color-line);\n",
       "  margin: 0 0.4em 0.5em 0.4em;\n",
       "  box-sizing: border-box;\n",
       "  padding-bottom: 0.4em;\n",
       "  background-color: var(--sklearn-color-background);\n",
       "}\n",
       "\n",
       "#sk-container-id-7 div.sk-container {\n",
       "  /* jupyter's `normalize.less` sets `[hidden] { display: none; }`\n",
       "     but bootstrap.min.css set `[hidden] { display: none !important; }`\n",
       "     so we also need the `!important` here to be able to override the\n",
       "     default hidden behavior on the sphinx rendered scikit-learn.org.\n",
       "     See: https://github.com/scikit-learn/scikit-learn/issues/21755 */\n",
       "  display: inline-block !important;\n",
       "  position: relative;\n",
       "}\n",
       "\n",
       "#sk-container-id-7 div.sk-text-repr-fallback {\n",
       "  display: none;\n",
       "}\n",
       "\n",
       "div.sk-parallel-item,\n",
       "div.sk-serial,\n",
       "div.sk-item {\n",
       "  /* draw centered vertical line to link estimators */\n",
       "  background-image: linear-gradient(var(--sklearn-color-text-on-default-background), var(--sklearn-color-text-on-default-background));\n",
       "  background-size: 2px 100%;\n",
       "  background-repeat: no-repeat;\n",
       "  background-position: center center;\n",
       "}\n",
       "\n",
       "/* Parallel-specific style estimator block */\n",
       "\n",
       "#sk-container-id-7 div.sk-parallel-item::after {\n",
       "  content: \"\";\n",
       "  width: 100%;\n",
       "  border-bottom: 2px solid var(--sklearn-color-text-on-default-background);\n",
       "  flex-grow: 1;\n",
       "}\n",
       "\n",
       "#sk-container-id-7 div.sk-parallel {\n",
       "  display: flex;\n",
       "  align-items: stretch;\n",
       "  justify-content: center;\n",
       "  background-color: var(--sklearn-color-background);\n",
       "  position: relative;\n",
       "}\n",
       "\n",
       "#sk-container-id-7 div.sk-parallel-item {\n",
       "  display: flex;\n",
       "  flex-direction: column;\n",
       "}\n",
       "\n",
       "#sk-container-id-7 div.sk-parallel-item:first-child::after {\n",
       "  align-self: flex-end;\n",
       "  width: 50%;\n",
       "}\n",
       "\n",
       "#sk-container-id-7 div.sk-parallel-item:last-child::after {\n",
       "  align-self: flex-start;\n",
       "  width: 50%;\n",
       "}\n",
       "\n",
       "#sk-container-id-7 div.sk-parallel-item:only-child::after {\n",
       "  width: 0;\n",
       "}\n",
       "\n",
       "/* Serial-specific style estimator block */\n",
       "\n",
       "#sk-container-id-7 div.sk-serial {\n",
       "  display: flex;\n",
       "  flex-direction: column;\n",
       "  align-items: center;\n",
       "  background-color: var(--sklearn-color-background);\n",
       "  padding-right: 1em;\n",
       "  padding-left: 1em;\n",
       "}\n",
       "\n",
       "\n",
       "/* Toggleable style: style used for estimator/Pipeline/ColumnTransformer box that is\n",
       "clickable and can be expanded/collapsed.\n",
       "- Pipeline and ColumnTransformer use this feature and define the default style\n",
       "- Estimators will overwrite some part of the style using the `sk-estimator` class\n",
       "*/\n",
       "\n",
       "/* Pipeline and ColumnTransformer style (default) */\n",
       "\n",
       "#sk-container-id-7 div.sk-toggleable {\n",
       "  /* Default theme specific background. It is overwritten whether we have a\n",
       "  specific estimator or a Pipeline/ColumnTransformer */\n",
       "  background-color: var(--sklearn-color-background);\n",
       "}\n",
       "\n",
       "/* Toggleable label */\n",
       "#sk-container-id-7 label.sk-toggleable__label {\n",
       "  cursor: pointer;\n",
       "  display: flex;\n",
       "  width: 100%;\n",
       "  margin-bottom: 0;\n",
       "  padding: 0.5em;\n",
       "  box-sizing: border-box;\n",
       "  text-align: center;\n",
       "  align-items: start;\n",
       "  justify-content: space-between;\n",
       "  gap: 0.5em;\n",
       "}\n",
       "\n",
       "#sk-container-id-7 label.sk-toggleable__label .caption {\n",
       "  font-size: 0.6rem;\n",
       "  font-weight: lighter;\n",
       "  color: var(--sklearn-color-text-muted);\n",
       "}\n",
       "\n",
       "#sk-container-id-7 label.sk-toggleable__label-arrow:before {\n",
       "  /* Arrow on the left of the label */\n",
       "  content: \"▸\";\n",
       "  float: left;\n",
       "  margin-right: 0.25em;\n",
       "  color: var(--sklearn-color-icon);\n",
       "}\n",
       "\n",
       "#sk-container-id-7 label.sk-toggleable__label-arrow:hover:before {\n",
       "  color: var(--sklearn-color-text);\n",
       "}\n",
       "\n",
       "/* Toggleable content - dropdown */\n",
       "\n",
       "#sk-container-id-7 div.sk-toggleable__content {\n",
       "  display: none;\n",
       "  text-align: left;\n",
       "  /* unfitted */\n",
       "  background-color: var(--sklearn-color-unfitted-level-0);\n",
       "}\n",
       "\n",
       "#sk-container-id-7 div.sk-toggleable__content.fitted {\n",
       "  /* fitted */\n",
       "  background-color: var(--sklearn-color-fitted-level-0);\n",
       "}\n",
       "\n",
       "#sk-container-id-7 div.sk-toggleable__content pre {\n",
       "  margin: 0.2em;\n",
       "  border-radius: 0.25em;\n",
       "  color: var(--sklearn-color-text);\n",
       "  /* unfitted */\n",
       "  background-color: var(--sklearn-color-unfitted-level-0);\n",
       "}\n",
       "\n",
       "#sk-container-id-7 div.sk-toggleable__content.fitted pre {\n",
       "  /* unfitted */\n",
       "  background-color: var(--sklearn-color-fitted-level-0);\n",
       "}\n",
       "\n",
       "#sk-container-id-7 input.sk-toggleable__control:checked~div.sk-toggleable__content {\n",
       "  /* Expand drop-down */\n",
       "  display: block;\n",
       "  width: 100%;\n",
       "  overflow: visible;\n",
       "}\n",
       "\n",
       "#sk-container-id-7 input.sk-toggleable__control:checked~label.sk-toggleable__label-arrow:before {\n",
       "  content: \"▾\";\n",
       "}\n",
       "\n",
       "/* Pipeline/ColumnTransformer-specific style */\n",
       "\n",
       "#sk-container-id-7 div.sk-label input.sk-toggleable__control:checked~label.sk-toggleable__label {\n",
       "  color: var(--sklearn-color-text);\n",
       "  background-color: var(--sklearn-color-unfitted-level-2);\n",
       "}\n",
       "\n",
       "#sk-container-id-7 div.sk-label.fitted input.sk-toggleable__control:checked~label.sk-toggleable__label {\n",
       "  background-color: var(--sklearn-color-fitted-level-2);\n",
       "}\n",
       "\n",
       "/* Estimator-specific style */\n",
       "\n",
       "/* Colorize estimator box */\n",
       "#sk-container-id-7 div.sk-estimator input.sk-toggleable__control:checked~label.sk-toggleable__label {\n",
       "  /* unfitted */\n",
       "  background-color: var(--sklearn-color-unfitted-level-2);\n",
       "}\n",
       "\n",
       "#sk-container-id-7 div.sk-estimator.fitted input.sk-toggleable__control:checked~label.sk-toggleable__label {\n",
       "  /* fitted */\n",
       "  background-color: var(--sklearn-color-fitted-level-2);\n",
       "}\n",
       "\n",
       "#sk-container-id-7 div.sk-label label.sk-toggleable__label,\n",
       "#sk-container-id-7 div.sk-label label {\n",
       "  /* The background is the default theme color */\n",
       "  color: var(--sklearn-color-text-on-default-background);\n",
       "}\n",
       "\n",
       "/* On hover, darken the color of the background */\n",
       "#sk-container-id-7 div.sk-label:hover label.sk-toggleable__label {\n",
       "  color: var(--sklearn-color-text);\n",
       "  background-color: var(--sklearn-color-unfitted-level-2);\n",
       "}\n",
       "\n",
       "/* Label box, darken color on hover, fitted */\n",
       "#sk-container-id-7 div.sk-label.fitted:hover label.sk-toggleable__label.fitted {\n",
       "  color: var(--sklearn-color-text);\n",
       "  background-color: var(--sklearn-color-fitted-level-2);\n",
       "}\n",
       "\n",
       "/* Estimator label */\n",
       "\n",
       "#sk-container-id-7 div.sk-label label {\n",
       "  font-family: monospace;\n",
       "  font-weight: bold;\n",
       "  display: inline-block;\n",
       "  line-height: 1.2em;\n",
       "}\n",
       "\n",
       "#sk-container-id-7 div.sk-label-container {\n",
       "  text-align: center;\n",
       "}\n",
       "\n",
       "/* Estimator-specific */\n",
       "#sk-container-id-7 div.sk-estimator {\n",
       "  font-family: monospace;\n",
       "  border: 1px dotted var(--sklearn-color-border-box);\n",
       "  border-radius: 0.25em;\n",
       "  box-sizing: border-box;\n",
       "  margin-bottom: 0.5em;\n",
       "  /* unfitted */\n",
       "  background-color: var(--sklearn-color-unfitted-level-0);\n",
       "}\n",
       "\n",
       "#sk-container-id-7 div.sk-estimator.fitted {\n",
       "  /* fitted */\n",
       "  background-color: var(--sklearn-color-fitted-level-0);\n",
       "}\n",
       "\n",
       "/* on hover */\n",
       "#sk-container-id-7 div.sk-estimator:hover {\n",
       "  /* unfitted */\n",
       "  background-color: var(--sklearn-color-unfitted-level-2);\n",
       "}\n",
       "\n",
       "#sk-container-id-7 div.sk-estimator.fitted:hover {\n",
       "  /* fitted */\n",
       "  background-color: var(--sklearn-color-fitted-level-2);\n",
       "}\n",
       "\n",
       "/* Specification for estimator info (e.g. \"i\" and \"?\") */\n",
       "\n",
       "/* Common style for \"i\" and \"?\" */\n",
       "\n",
       ".sk-estimator-doc-link,\n",
       "a:link.sk-estimator-doc-link,\n",
       "a:visited.sk-estimator-doc-link {\n",
       "  float: right;\n",
       "  font-size: smaller;\n",
       "  line-height: 1em;\n",
       "  font-family: monospace;\n",
       "  background-color: var(--sklearn-color-background);\n",
       "  border-radius: 1em;\n",
       "  height: 1em;\n",
       "  width: 1em;\n",
       "  text-decoration: none !important;\n",
       "  margin-left: 0.5em;\n",
       "  text-align: center;\n",
       "  /* unfitted */\n",
       "  border: var(--sklearn-color-unfitted-level-1) 1pt solid;\n",
       "  color: var(--sklearn-color-unfitted-level-1);\n",
       "}\n",
       "\n",
       ".sk-estimator-doc-link.fitted,\n",
       "a:link.sk-estimator-doc-link.fitted,\n",
       "a:visited.sk-estimator-doc-link.fitted {\n",
       "  /* fitted */\n",
       "  border: var(--sklearn-color-fitted-level-1) 1pt solid;\n",
       "  color: var(--sklearn-color-fitted-level-1);\n",
       "}\n",
       "\n",
       "/* On hover */\n",
       "div.sk-estimator:hover .sk-estimator-doc-link:hover,\n",
       ".sk-estimator-doc-link:hover,\n",
       "div.sk-label-container:hover .sk-estimator-doc-link:hover,\n",
       ".sk-estimator-doc-link:hover {\n",
       "  /* unfitted */\n",
       "  background-color: var(--sklearn-color-unfitted-level-3);\n",
       "  color: var(--sklearn-color-background);\n",
       "  text-decoration: none;\n",
       "}\n",
       "\n",
       "div.sk-estimator.fitted:hover .sk-estimator-doc-link.fitted:hover,\n",
       ".sk-estimator-doc-link.fitted:hover,\n",
       "div.sk-label-container:hover .sk-estimator-doc-link.fitted:hover,\n",
       ".sk-estimator-doc-link.fitted:hover {\n",
       "  /* fitted */\n",
       "  background-color: var(--sklearn-color-fitted-level-3);\n",
       "  color: var(--sklearn-color-background);\n",
       "  text-decoration: none;\n",
       "}\n",
       "\n",
       "/* Span, style for the box shown on hovering the info icon */\n",
       ".sk-estimator-doc-link span {\n",
       "  display: none;\n",
       "  z-index: 9999;\n",
       "  position: relative;\n",
       "  font-weight: normal;\n",
       "  right: .2ex;\n",
       "  padding: .5ex;\n",
       "  margin: .5ex;\n",
       "  width: min-content;\n",
       "  min-width: 20ex;\n",
       "  max-width: 50ex;\n",
       "  color: var(--sklearn-color-text);\n",
       "  box-shadow: 2pt 2pt 4pt #999;\n",
       "  /* unfitted */\n",
       "  background: var(--sklearn-color-unfitted-level-0);\n",
       "  border: .5pt solid var(--sklearn-color-unfitted-level-3);\n",
       "}\n",
       "\n",
       ".sk-estimator-doc-link.fitted span {\n",
       "  /* fitted */\n",
       "  background: var(--sklearn-color-fitted-level-0);\n",
       "  border: var(--sklearn-color-fitted-level-3);\n",
       "}\n",
       "\n",
       ".sk-estimator-doc-link:hover span {\n",
       "  display: block;\n",
       "}\n",
       "\n",
       "/* \"?\"-specific style due to the `<a>` HTML tag */\n",
       "\n",
       "#sk-container-id-7 a.estimator_doc_link {\n",
       "  float: right;\n",
       "  font-size: 1rem;\n",
       "  line-height: 1em;\n",
       "  font-family: monospace;\n",
       "  background-color: var(--sklearn-color-background);\n",
       "  border-radius: 1rem;\n",
       "  height: 1rem;\n",
       "  width: 1rem;\n",
       "  text-decoration: none;\n",
       "  /* unfitted */\n",
       "  color: var(--sklearn-color-unfitted-level-1);\n",
       "  border: var(--sklearn-color-unfitted-level-1) 1pt solid;\n",
       "}\n",
       "\n",
       "#sk-container-id-7 a.estimator_doc_link.fitted {\n",
       "  /* fitted */\n",
       "  border: var(--sklearn-color-fitted-level-1) 1pt solid;\n",
       "  color: var(--sklearn-color-fitted-level-1);\n",
       "}\n",
       "\n",
       "/* On hover */\n",
       "#sk-container-id-7 a.estimator_doc_link:hover {\n",
       "  /* unfitted */\n",
       "  background-color: var(--sklearn-color-unfitted-level-3);\n",
       "  color: var(--sklearn-color-background);\n",
       "  text-decoration: none;\n",
       "}\n",
       "\n",
       "#sk-container-id-7 a.estimator_doc_link.fitted:hover {\n",
       "  /* fitted */\n",
       "  background-color: var(--sklearn-color-fitted-level-3);\n",
       "}\n",
       "\n",
       ".estimator-table summary {\n",
       "    padding: .5rem;\n",
       "    font-family: monospace;\n",
       "    cursor: pointer;\n",
       "}\n",
       "\n",
       ".estimator-table details[open] {\n",
       "    padding-left: 0.1rem;\n",
       "    padding-right: 0.1rem;\n",
       "    padding-bottom: 0.3rem;\n",
       "}\n",
       "\n",
       ".estimator-table .parameters-table {\n",
       "    margin-left: auto !important;\n",
       "    margin-right: auto !important;\n",
       "}\n",
       "\n",
       ".estimator-table .parameters-table tr:nth-child(odd) {\n",
       "    background-color: #fff;\n",
       "}\n",
       "\n",
       ".estimator-table .parameters-table tr:nth-child(even) {\n",
       "    background-color: #f6f6f6;\n",
       "}\n",
       "\n",
       ".estimator-table .parameters-table tr:hover {\n",
       "    background-color: #e0e0e0;\n",
       "}\n",
       "\n",
       ".estimator-table table td {\n",
       "    border: 1px solid rgba(106, 105, 104, 0.232);\n",
       "}\n",
       "\n",
       ".user-set td {\n",
       "    color:rgb(255, 94, 0);\n",
       "    text-align: left;\n",
       "}\n",
       "\n",
       ".user-set td.value pre {\n",
       "    color:rgb(255, 94, 0) !important;\n",
       "    background-color: transparent !important;\n",
       "}\n",
       "\n",
       ".default td {\n",
       "    color: black;\n",
       "    text-align: left;\n",
       "}\n",
       "\n",
       ".user-set td i,\n",
       ".default td i {\n",
       "    color: black;\n",
       "}\n",
       "\n",
       ".copy-paste-icon {\n",
       "    background-image: url(data:image/svg+xml;base64,PHN2ZyB4bWxucz0iaHR0cDovL3d3dy53My5vcmcvMjAwMC9zdmciIHZpZXdCb3g9IjAgMCA0NDggNTEyIj48IS0tIUZvbnQgQXdlc29tZSBGcmVlIDYuNy4yIGJ5IEBmb250YXdlc29tZSAtIGh0dHBzOi8vZm9udGF3ZXNvbWUuY29tIExpY2Vuc2UgLSBodHRwczovL2ZvbnRhd2Vzb21lLmNvbS9saWNlbnNlL2ZyZWUgQ29weXJpZ2h0IDIwMjUgRm9udGljb25zLCBJbmMuLS0+PHBhdGggZD0iTTIwOCAwTDMzMi4xIDBjMTIuNyAwIDI0LjkgNS4xIDMzLjkgMTQuMWw2Ny45IDY3LjljOSA5IDE0LjEgMjEuMiAxNC4xIDMzLjlMNDQ4IDMzNmMwIDI2LjUtMjEuNSA0OC00OCA0OGwtMTkyIDBjLTI2LjUgMC00OC0yMS41LTQ4LTQ4bDAtMjg4YzAtMjYuNSAyMS41LTQ4IDQ4LTQ4ek00OCAxMjhsODAgMCAwIDY0LTY0IDAgMCAyNTYgMTkyIDAgMC0zMiA2NCAwIDAgNDhjMCAyNi41LTIxLjUgNDgtNDggNDhMNDggNTEyYy0yNi41IDAtNDgtMjEuNS00OC00OEwwIDE3NmMwLTI2LjUgMjEuNS00OCA0OC00OHoiLz48L3N2Zz4=);\n",
       "    background-repeat: no-repeat;\n",
       "    background-size: 14px 14px;\n",
       "    background-position: 0;\n",
       "    display: inline-block;\n",
       "    width: 14px;\n",
       "    height: 14px;\n",
       "    cursor: pointer;\n",
       "}\n",
       "</style><body><div id=\"sk-container-id-7\" class=\"sk-top-container\"><div class=\"sk-text-repr-fallback\"><pre>LogisticIT(alpha=3.0)</pre><b>In a Jupyter environment, please rerun this cell to show the HTML representation or trust the notebook. <br />On GitHub, the HTML representation is unable to render, please try loading this page with nbviewer.org.</b></div><div class=\"sk-container\" hidden><div class=\"sk-item\"><div class=\"sk-estimator fitted sk-toggleable\"><input class=\"sk-toggleable__control sk-hidden--visually\" id=\"sk-estimator-id-7\" type=\"checkbox\" checked><label for=\"sk-estimator-id-7\" class=\"sk-toggleable__label fitted sk-toggleable__label-arrow\"><div><div>LogisticIT</div></div><div><span class=\"sk-estimator-doc-link fitted\">i<span>Fitted</span></span></div></label><div class=\"sk-toggleable__content fitted\" data-param-prefix=\"\">\n",
       "        <div class=\"estimator-table\">\n",
       "            <details>\n",
       "                <summary>Parameters</summary>\n",
       "                <table class=\"parameters-table\">\n",
       "                  <tbody>\n",
       "                    \n",
       "        <tr class=\"user-set\">\n",
       "            <td><i class=\"copy-paste-icon\"\n",
       "                 onclick=\"copyToClipboard('alpha',\n",
       "                          this.parentElement.nextElementSibling)\"\n",
       "            ></i></td>\n",
       "            <td class=\"param\">alpha&nbsp;</td>\n",
       "            <td class=\"value\">3.0</td>\n",
       "        </tr>\n",
       "    \n",
       "\n",
       "        <tr class=\"default\">\n",
       "            <td><i class=\"copy-paste-icon\"\n",
       "                 onclick=\"copyToClipboard('verbose',\n",
       "                          this.parentElement.nextElementSibling)\"\n",
       "            ></i></td>\n",
       "            <td class=\"param\">verbose&nbsp;</td>\n",
       "            <td class=\"value\">0</td>\n",
       "        </tr>\n",
       "    \n",
       "\n",
       "        <tr class=\"default\">\n",
       "            <td><i class=\"copy-paste-icon\"\n",
       "                 onclick=\"copyToClipboard('max_iter',\n",
       "                          this.parentElement.nextElementSibling)\"\n",
       "            ></i></td>\n",
       "            <td class=\"param\">max_iter&nbsp;</td>\n",
       "            <td class=\"value\">1000</td>\n",
       "        </tr>\n",
       "    \n",
       "                  </tbody>\n",
       "                </table>\n",
       "            </details>\n",
       "        </div>\n",
       "    </div></div></div></div></div><script>function copyToClipboard(text, element) {\n",
       "    // Get the parameter prefix from the closest toggleable content\n",
       "    const toggleableContent = element.closest('.sk-toggleable__content');\n",
       "    const paramPrefix = toggleableContent ? toggleableContent.dataset.paramPrefix : '';\n",
       "    const fullParamName = paramPrefix ? `${paramPrefix}${text}` : text;\n",
       "\n",
       "    const originalStyle = element.style;\n",
       "    const computedStyle = window.getComputedStyle(element);\n",
       "    const originalWidth = computedStyle.width;\n",
       "    const originalHTML = element.innerHTML.replace('Copied!', '');\n",
       "\n",
       "    navigator.clipboard.writeText(fullParamName)\n",
       "        .then(() => {\n",
       "            element.style.width = originalWidth;\n",
       "            element.style.color = 'green';\n",
       "            element.innerHTML = \"Copied!\";\n",
       "\n",
       "            setTimeout(() => {\n",
       "                element.innerHTML = originalHTML;\n",
       "                element.style = originalStyle;\n",
       "            }, 2000);\n",
       "        })\n",
       "        .catch(err => {\n",
       "            console.error('Failed to copy:', err);\n",
       "            element.style.color = 'red';\n",
       "            element.innerHTML = \"Failed!\";\n",
       "            setTimeout(() => {\n",
       "                element.innerHTML = originalHTML;\n",
       "                element.style = originalStyle;\n",
       "            }, 2000);\n",
       "        });\n",
       "    return false;\n",
       "}\n",
       "\n",
       "document.querySelectorAll('.fa-regular.fa-copy').forEach(function(element) {\n",
       "    const toggleableContent = element.closest('.sk-toggleable__content');\n",
       "    const paramPrefix = toggleableContent ? toggleableContent.dataset.paramPrefix : '';\n",
       "    const paramName = element.parentElement.nextElementSibling.textContent.trim();\n",
       "    const fullParamName = paramPrefix ? `${paramPrefix}${paramName}` : paramName;\n",
       "\n",
       "    element.setAttribute('title', fullParamName);\n",
       "});\n",
       "</script></body>"
      ],
      "text/plain": [
       "LogisticIT(alpha=3.0)"
      ]
     },
     "execution_count": 277,
     "metadata": {},
     "output_type": "execute_result"
    }
   ],
   "source": [
    "y = dummy_vars[\"buying_intention\"].astype(int).values\n",
    "X_np = np.asarray(X, dtype=float)\n",
    "\n",
    "# Standardize features\n",
    "scaler = StandardScaler()\n",
    "X_std = scaler.fit_transform(X_np)\n",
    "\n",
    "# Compute class weights to handle imbalance\n",
    "classes = np.unique(y)\n",
    "cw = compute_class_weight(class_weight=\"balanced\", classes=classes, y=y)\n",
    "print(cw)\n",
    "class_to_w = {c: w for c, w in zip(classes, cw)}\n",
    "w = np.array([class_to_w[yi] for yi in y])\n",
    "\n",
    "# Fit a penalized ordinal logistic regression (proportional odds)\n",
    "model = m.LogisticIT(alpha=3.0)  # alpha = L2 penalty strength\n",
    "model.fit(X_std, y, sample_weight=w)\n"
   ]
  },
  {
   "cell_type": "code",
   "execution_count": 278,
   "id": "a3683fc6",
   "metadata": {},
   "outputs": [
    {
     "name": "stdout",
     "output_type": "stream",
     "text": [
      "\n",
      "Model coefficients:\n",
      "              Feature  Coefficient\n",
      "0    health_conscious     0.188377\n",
      "1      sustainability     0.598515\n",
      "2   cooking_frequency     0.403125\n",
      "3           prior_Yes     1.718492\n",
      "4               _Male    -0.233775\n",
      "5         _Non-binary    -0.071148\n",
      "6     _health_regular     0.822347\n",
      "7      _health_social     2.196301\n",
      "8        _sus_regular     1.248133\n",
      "9         _sus_social     3.263329\n",
      "10             _25-34    -0.351550\n",
      "11             _35-44    -0.515296\n",
      "12          _44-above    -0.527232\n",
      "\n",
      "Cutpoints (theta):\n",
      "  Threshold 0: -2.5453\n",
      "  Threshold 1: 2.7718\n"
     ]
    }
   ],
   "source": [
    "def mord_summary(model, feature_names):\n",
    "    coef = model.coef_.ravel()\n",
    "    summary_df = pd.DataFrame({\n",
    "        \"Feature\": feature_names,\n",
    "        \"Coefficient\": coef\n",
    "    })\n",
    "    print(\"\\nModel coefficients:\")\n",
    "    print(summary_df)\n",
    "\n",
    "    print(\"\\nCutpoints (theta):\")\n",
    "    for i, t in enumerate(model.theta_):\n",
    "        print(f\"  Threshold {i}: {t:.4f}\")\n",
    "\n",
    "mord_summary(model, X.columns)\n",
    "\n"
   ]
  },
  {
   "cell_type": "code",
   "execution_count": 279,
   "id": "710a34d8",
   "metadata": {},
   "outputs": [
    {
     "name": "stdout",
     "output_type": "stream",
     "text": [
      "                   ΔP(low)  ΔP(med)  ΔP(high)\n",
      "feature                                      \n",
      "_sus_social         -0.002   -0.288     0.290\n",
      "_health_social      -0.002   -0.258     0.260\n",
      "prior_Yes           -0.002   -0.231     0.233\n",
      "cooking_frequency   -0.001   -0.141     0.142\n",
      "sustainability      -0.001   -0.108     0.109\n",
      "health_conscious    -0.000   -0.033     0.033\n",
      "_Non-binary          0.000    0.015    -0.015\n",
      "_Male                0.001    0.051    -0.052\n",
      "_25-34               0.001    0.078    -0.079\n",
      "_35-44               0.001    0.117    -0.119\n",
      "_44-above            0.001    0.120    -0.122\n"
     ]
    },
    {
     "data": {
      "image/png": "[encoded data removed]",
      "text/plain": [
       "<Figure size 700x500 with 1 Axes>"
      ]
     },
     "metadata": {},
     "output_type": "display_data"
    },
    {
     "data": {
      "image/png": "[encoded data removed]",
      "text/plain": [
       "<Figure size 700x500 with 1 Axes>"
      ]
     },
     "metadata": {},
     "output_type": "display_data"
    }
   ],
   "source": [
    "# -------- helpers for mord (works for mord.LogisticIT and similar) --------\n",
    "def _get_coef_and_thresholds(model):\n",
    "    # mord stores weights and thresholds under different names across versions\n",
    "    coef = None\n",
    "    for name in [\"coef_\", \"w_\", \"weights_\"]:\n",
    "        if hasattr(model, name):\n",
    "            coef = np.ravel(getattr(model, name))\n",
    "            break\n",
    "    if coef is None:\n",
    "        raise AttributeError(\"Could not find coef_/w_/weights_ on the mord model.\")\n",
    "    theta = None\n",
    "    for name in [\"theta_\", \"threshold_\", \"cutpoints_\"]:\n",
    "        if hasattr(model, name):\n",
    "            theta = np.ravel(getattr(model, name))\n",
    "            break\n",
    "    if theta is None:\n",
    "        raise AttributeError(\"Could not find theta_/threshold_/cutpoints_ on the mord model.\")\n",
    "    return coef, theta\n",
    "\n",
    "def _probs_from_linear(model, xb):\n",
    "    \"\"\"Compute P(low), P(med), P(high) from mord params and xb = x @ beta.\"\"\"\n",
    "    coef, theta = _get_coef_and_thresholds(model)\n",
    "    # theta has J-1 cutpoints; categories assumed ordered [0,1,2]\n",
    "    sig = lambda z: 1.0 / (1.0 + np.exp(-z))\n",
    "    cdf = sig(theta - xb)        # shape (J-1,)\n",
    "    # Probabilities: [cdf1, cdf2-cdf1, 1-cdf2]\n",
    "    p_low  = cdf[0]\n",
    "    p_med  = cdf[1] - cdf[0]\n",
    "    p_high = 1.0 - cdf[1]\n",
    "    return np.array([p_low, p_med, p_high])\n",
    "\n",
    "def predict_probs_row(model, x_row):\n",
    "    \"\"\"x_row: 1D array-like with same order of features as used in fitting.\"\"\"\n",
    "    coef, _ = _get_coef_and_thresholds(model)\n",
    "    xb = float(np.dot(np.ravel(x_row), coef))\n",
    "    return _probs_from_linear(model, xb)\n",
    "\n",
    "# -------- main analysis: feature impacts on probabilities --------\n",
    "def feature_impacts(model, X: pd.DataFrame, features_to_check=None):\n",
    "    \"\"\"\n",
    "    Compute ΔP(low/med/high) when toggling each feature\n",
    "    (binary: 0→1; continuous: mean→mean+1SD), holding others at baseline.\n",
    "    Returns a DataFrame with one row per feature.\n",
    "    \"\"\"\n",
    "    if features_to_check is None:\n",
    "        features_to_check = list(X.columns)\n",
    "\n",
    "    # Baseline: zeros for dummies; means for continuous\n",
    "    baseline = pd.Series(0.0, index=X.columns)\n",
    "    # treat as continuous if has >2 unique values\n",
    "    cont_cols = [c for c in X.columns if X[c].nunique() > 2]\n",
    "    baseline[cont_cols] = X[cont_cols].mean()\n",
    "\n",
    "    p_base = predict_probs_row(model, baseline.values)\n",
    "\n",
    "    rows = []\n",
    "    for feat in features_to_check:\n",
    "        x0 = baseline.copy()\n",
    "        x1 = baseline.copy()\n",
    "        uniq = sorted(X[feat].unique())\n",
    "        # binary vs continuous toggle\n",
    "        if set(uniq) <= {0, 1}:\n",
    "            majority = X[feat].mode()[0]   # most frequent value (0 or 1)\n",
    "            x0[feat] = majority\n",
    "            x1[feat] = 1 - majority        # flip it\n",
    "\n",
    "        else:\n",
    "            x0[feat] = X[feat].mean()\n",
    "            x1[feat] = X[feat].mean() + X[feat].std(ddof=0)\n",
    "\n",
    "        p0 = predict_probs_row(model, x0.values)\n",
    "        p1 = predict_probs_row(model, x1.values)\n",
    "\n",
    "        rows.append({\n",
    "            \"feature\": feat,\n",
    "            \"ΔP(low)\":  p1[0] - p0[0],\n",
    "            \"ΔP(med)\":  p1[1] - p0[1],\n",
    "            \"ΔP(high)\": p1[2] - p0[2]\n",
    "        })\n",
    "\n",
    "    eff = pd.DataFrame(rows).set_index(\"feature\").sort_values(\"ΔP(high)\", ascending=False)\n",
    "    return eff\n",
    "\n",
    "  # Top pushers toward HIGH\n",
    "def plot_impacts(effects: pd.DataFrame, top_n):\n",
    "    \n",
    "    \"\"\"Two bar charts: which features push HIGH up, and which push LOW up (in % points).\"\"\"\n",
    "    eff = effects.copy()\n",
    "   # Convert to percentage points\n",
    "    eff = eff * 100  \n",
    "    top_high = eff.sort_values(\"ΔP(high)\", ascending=False).head(top_n)\n",
    "    plt.figure(figsize=(7, 5))\n",
    "    plt.barh(top_high.index[::-1], top_high[\"ΔP(high)\"][::-1])\n",
    "    plt.axvline(0, linestyle=\"--\", color=\"k\")\n",
    "    plt.title(\"Features increasing P(High)\")\n",
    "    plt.xlabel(\"Change in probability of HIGH buying intention (percentage points)\")\n",
    "    plt.tight_layout()\n",
    "    plt.show()\n",
    "\n",
    "    # Top pushers toward LOW\n",
    "    top_low = eff.sort_values(\"ΔP(low)\", ascending=False).head(top_n)\n",
    "    plt.figure(figsize=(7, 5))\n",
    "    plt.barh(top_low.index[::-1], top_low[\"ΔP(low)\"][::-1], color=\"salmon\")\n",
    "    plt.axvline(0, linestyle=\"--\", color=\"k\")\n",
    "    plt.title(\"Features increasing P(Low)\")\n",
    "    plt.xlabel(\"Change in probability of LOW buying intention (percentage points)\")\n",
    "    plt.tight_layout()\n",
    "    plt.show()\n",
    "\n",
    "# -------- usage --------\n",
    " \n",
    "# Choose which features to inspect (or leave None to use all)\n",
    "features_to_check = [\"prior_Yes\", \"health_conscious\", \"sustainability\",\"cooking_frequency\",\n",
    "                      \"_health_social\", \"_sus_social\", \"_Male\",\"_Non-binary\",\"_25-34\", \"_35-44\", \"_44-above\"]\n",
    "\n",
    "eff = feature_impacts(model, X, features_to_check)\n",
    "print(eff.round(3))\n",
    "plot_impacts(eff, top_n=8)\n"
   ]
  },
  {
   "cell_type": "code",
   "execution_count": 280,
   "id": "102f17e3",
   "metadata": {},
   "outputs": [
    {
     "name": "stdout",
     "output_type": "stream",
     "text": [
      "Baseline profile (most common respondent):\n",
      "health_conscious     2.674\n",
      "sustainability       3.062\n",
      "cooking_frequency    3.107\n",
      "prior_Yes            0.000\n",
      "_Male                0.000\n",
      "_Non-binary          0.000\n",
      "_health_regular      0.000\n",
      "_health_social       0.000\n",
      "_sus_regular         0.000\n",
      "_sus_social          0.000\n",
      "_25-34               0.000\n",
      "_35-44               0.000\n",
      "_44-above            0.000\n",
      "dtype: float64\n"
     ]
    }
   ],
   "source": [
    "# --- 1. Baseline as most common profile ---\n",
    "baseline = pd.Series(index=X.columns, dtype=float)\n",
    "\n",
    "for col in X.columns:\n",
    "    # If binary/dummy (0/1): use the most frequent value\n",
    "    if set(X[col].unique()) <= {0,1}:\n",
    "        baseline[col] = X[col].mode()[0]\n",
    "    else:\n",
    "        # If continuous: use the mean\n",
    "        baseline[col] = X[col].mean()\n",
    "\n",
    "print(\"Baseline profile (most common respondent):\")\n",
    "print(baseline)\n"
   ]
  },
  {
   "cell_type": "code",
   "execution_count": 291,
   "id": "2e5bb155",
   "metadata": {},
   "outputs": [
    {
     "data": {
      "text/plain": [
       "cooking_frequency\n",
       "2    198\n",
       "1    182\n",
       "3    181\n",
       "4    128\n",
       "5     92\n",
       "7     90\n",
       "0     65\n",
       "6     64\n",
       "Name: count, dtype: int64"
      ]
     },
     "execution_count": 291,
     "metadata": {},
     "output_type": "execute_result"
    }
   ],
   "source": [
    "df[\"cooking_frequency\"].value_counts()"
   ]
  },
  {
   "cell_type": "code",
   "execution_count": 292,
   "id": "60b33b06",
   "metadata": {},
   "outputs": [],
   "source": [
    "alt = baseline.copy()\n",
    "alt[\"cooking_frequency\"] = 6\n"
   ]
  },
  {
   "cell_type": "code",
   "execution_count": 293,
   "id": "6b6541df",
   "metadata": {},
   "outputs": [
    {
     "data": {
      "text/plain": [
       "health_conscious     2.674\n",
       "sustainability       3.062\n",
       "cooking_frequency    6.000\n",
       "prior_Yes            0.000\n",
       "_Male                0.000\n",
       "_Non-binary          0.000\n",
       "_health_regular      0.000\n",
       "_health_social       0.000\n",
       "_sus_regular         0.000\n",
       "_sus_social          0.000\n",
       "_25-34               0.000\n",
       "_35-44               0.000\n",
       "_44-above            0.000\n",
       "dtype: float64"
      ]
     },
     "execution_count": 293,
     "metadata": {},
     "output_type": "execute_result"
    }
   ],
   "source": [
    "alt"
   ]
  },
  {
   "cell_type": "code",
   "execution_count": 294,
   "id": "6c0dfd38",
   "metadata": {},
   "outputs": [
    {
     "name": "stdout",
     "output_type": "stream",
     "text": [
      "Reference profile (sus_social=0):\n",
      "P(low)=0.2%, P(med)=30.4%, P(high)=69.4%\n",
      "\n",
      "With sus_social=1:\n",
      "P(low)=0.1%, P(med)=12.0%, P(high)=87.9%\n",
      "\n",
      "Difference (alt - ref):\n",
      "ΔP(low)=-0.1 percentage points\n",
      "ΔP(med)=-18.4 percentage points\n",
      "ΔP(high)=18.5 percentage points\n"
     ]
    }
   ],
   "source": [
    "# Probabilities for the baseline (reference person with plain description)\n",
    "p_ref = predict_probs_row(model, baseline.values)\n",
    "\n",
    "# Probabilities for the same person but with sus_social=1\n",
    "p_alt = predict_probs_row(model, alt.values)\n",
    "\n",
    "print(\"Reference profile (sus_social=0):\")\n",
    "print(f\"P(low)={p_ref[0]*100:.1f}%, P(med)={p_ref[1]*100:.1f}%, P(high)={p_ref[2]*100:.1f}%\")\n",
    "\n",
    "print(\"\\nWith sus_social=1:\")\n",
    "print(f\"P(low)={p_alt[0]*100:.1f}%, P(med)={p_alt[1]*100:.1f}%, P(high)={p_alt[2]*100:.1f}%\")\n",
    "\n",
    "print(\"\\nDifference (alt - ref):\")\n",
    "print(f\"ΔP(low)={(p_alt[0]-p_ref[0])*100:.1f} percentage points\")\n",
    "print(f\"ΔP(med)={(p_alt[1]-p_ref[1])*100:.1f} percentage points\")\n",
    "print(f\"ΔP(high)={(p_alt[2]-p_ref[2])*100:.1f} percentage points\")\n"
   ]
  },
  {
   "cell_type": "markdown",
   "id": "b90f6d0b",
   "metadata": {},
   "source": [
    "Now let's verify if clicks add any new information or if it is only supporting what we already found\n"
   ]
  },
  {
   "cell_type": "code",
   "execution_count": 284,
   "id": "6be44c8e",
   "metadata": {},
   "outputs": [
    {
     "data": {
      "text/plain": [
       "Index(['buying_intention', 'click', 'health_conscious', 'sustainability',\n",
       "       'cooking_frequency', 'prior_Yes', '_Male', '_Non-binary',\n",
       "       '_health_regular', '_health_social', '_sus_regular', '_sus_social',\n",
       "       '_Belgium', '_Czech Republic', '_Denmark', '_Finland', '_France',\n",
       "       '_Germany', '_Greece', '_Hungary', '_Italy', '_Netherlands', '_Norway',\n",
       "       '_Poland', '_Portugal', '_Spain', '_Sweden', '_Switzerland', '_25-34',\n",
       "       '_35-44', '_44-above'],\n",
       "      dtype='object')"
      ]
     },
     "execution_count": 284,
     "metadata": {},
     "output_type": "execute_result"
    }
   ],
   "source": [
    "dummy_vars.columns"
   ]
  },
  {
   "cell_type": "code",
   "execution_count": 285,
   "id": "b356e42a",
   "metadata": {},
   "outputs": [
    {
     "data": {
      "text/plain": [
       "buying_intention\n",
       "2    665\n",
       "1    182\n",
       "3    153\n",
       "Name: count, dtype: int64"
      ]
     },
     "execution_count": 285,
     "metadata": {},
     "output_type": "execute_result"
    }
   ],
   "source": [
    "dummy_vars[\"buying_intention\"].value_counts()"
   ]
  },
  {
   "cell_type": "code",
   "execution_count": 286,
   "id": "117571ee",
   "metadata": {},
   "outputs": [
    {
     "name": "stderr",
     "output_type": "stream",
     "text": [
      "C:\\Users\\VOrozco\\AppData\\Local\\Temp\\ipykernel_62680\\3730372962.py:8: UserWarning: set_ticklabels() should only be used with a fixed number of ticks, i.e. after set_ticks() or using a FixedLocator.\n",
      "  ax.set_xticklabels([\"No\", \"Yes\"])\n"
     ]
    },
    {
     "data": {
      "image/png": "[encoded data removed]",
      "text/plain": [
       "<Figure size 640x480 with 1 Axes>"
      ]
     },
     "metadata": {},
     "output_type": "display_data"
    }
   ],
   "source": [
    "ax= sns.countplot(data=dummy_vars, x=\"buying_intention\", hue= \"click\", palette=['lightblue', 'lightgreen'])\n",
    "ax.set_xlabel(\"Buying intention\", fontsize= 12)\n",
    "ax.set_ylabel(\"Click counts\", fontsize= 12)\n",
    "ax.spines[[\"right\",\"top\"]].set_visible(False)\n",
    "ax.yaxis.grid(True, linestyle= \"--\", alpha= 0.7)\n",
    "ax.set_ylim(0,550)\n",
    "#ax.set_xticks([0, 1])\n",
    "ax.set_xticklabels([\"No\", \"Yes\"])\n",
    "\n",
    "for container in ax.containers:\n",
    "    vals = container.datavalues  # these are the bar heights\n",
    "    labels = [f\"{int(v)}\" if v > 0 else \"\" for v in vals]  # hide 0s\n",
    "    ax.bar_label(container, labels=labels, label_type=\"edge\", padding=3, fontsize=10)\n",
    "    \n",
    "plt.title(\"Click counts by buying intention\")\n",
    "plt.legend(labels=[\"no\", \"yes\"], title= \"clicks\")\n",
    "plt.show()\n"
   ]
  },
  {
   "cell_type": "code",
   "execution_count": null,
   "id": "11ff9c45",
   "metadata": {},
   "outputs": [],
   "source": []
  }
 ],
 "metadata": {
  "kernelspec": {
   "display_name": "Python 3",
   "language": "python",
   "name": "python3"
  },
  "language_info": {
   "codemirror_mode": {
    "name": "ipython",
    "version": 3
   },
   "file_extension": ".py",
   "mimetype": "text/x-python",
   "name": "python",
   "nbconvert_exporter": "python",
   "pygments_lexer": "ipython3",
   "version": "3.13.3"
  }
 },
 "nbformat": 4,
 "nbformat_minor": 5
}
